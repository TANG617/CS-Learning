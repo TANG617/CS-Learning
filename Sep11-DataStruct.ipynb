{
 "cells": [
  {
   "cell_type": "markdown",
   "metadata": {},
   "source": [
    "# 线性表"
   ]
  },
  {
   "cell_type": "code",
   "execution_count": 12,
   "metadata": {},
   "outputs": [],
   "source": [
    "#include<stdio.h>"
   ]
  },
  {
   "cell_type": "markdown",
   "metadata": {},
   "source": [
    "## 顺序表\n",
    "\n",
    "逻辑顺序与物理顺序相同\n",
    "\n",
    "![20220911213748dupYEal3yqpp](https://cdn.jsdelivr.net/gh/TANG617/images@master/20220911213748dupYEal3yqpp.png)\n"
   ]
  },
  {
   "cell_type": "code",
   "execution_count": 11,
   "metadata": {},
   "outputs": [],
   "source": [
    "// 数组的动态分配\n",
    "#define InitSize 100\n",
    "typedef struct {\n",
    "    int *data;\n",
    "    int MaxSize, length;\n",
    "}SeqList;\n",
    "\n",
    "\n",
    "// 初始化数组大小\n",
    "L.data=(int*)malloc(sizeof(int)*InitSize);\n",
    "\n",
    "// L在这里自动被定义 "
   ]
  },
  {
   "cell_type": "code",
   "execution_count": null,
   "metadata": {},
   "outputs": [],
   "source": []
  }
 ],
 "metadata": {
  "kernelspec": {
   "display_name": "C++11",
   "language": "C++11",
   "name": "xcpp11"
  },
  "language_info": {
   "codemirror_mode": "text/x-c++src",
   "file_extension": ".cpp",
   "mimetype": "text/x-c++src",
   "name": "c++",
   "version": "-std=c++11"
  },
  "orig_nbformat": 4
 },
 "nbformat": 4,
 "nbformat_minor": 2
}
